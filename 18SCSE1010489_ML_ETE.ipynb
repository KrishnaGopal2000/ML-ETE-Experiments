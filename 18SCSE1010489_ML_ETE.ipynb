{
 "cells": [
  {
   "cell_type": "code",
   "execution_count": 12,
   "metadata": {},
   "outputs": [
    {
     "name": "stdout",
     "output_type": "stream",
     "text": [
      "       0    1    2    3\n",
      "0    5.1  3.5  1.4  0.2\n",
      "1    4.9  3.0  1.4  0.2\n",
      "2    4.7  3.2  1.3  0.2\n",
      "3    4.6  3.1  1.5  0.2\n",
      "4    5.0  3.6  1.4  0.2\n",
      "..   ...  ...  ...  ...\n",
      "145  6.7  3.0  5.2  2.3\n",
      "146  6.3  2.5  5.0  1.9\n",
      "147  6.5  3.0  5.2  2.0\n",
      "148  6.2  3.4  5.4  2.3\n",
      "149  5.9  3.0  5.1  1.8\n",
      "\n",
      "[150 rows x 4 columns]\n",
      "['setosa' 'versicolor' 'virginica']\n",
      "[[19  0  0]\n",
      " [ 0 15  0]\n",
      " [ 0  1 15]]\n",
      " correct predicition 0.98\n",
      " worng predicition 0.020000000000000018\n"
     ]
    }
   ],
   "source": [
    "#Name:-Krishna Gopal\n",
    "#AdmNo:-18SCSE1010489\n",
    "#Importing Data-set and classification\n",
    "import sklearn \n",
    "\n",
    "import pandas as pd\n",
    "\n",
    "from sklearn.datasets import load_iris\n",
    "\n",
    "iris=load_iris()\n",
    "\n",
    "iris.keys()\n",
    "\n",
    "df=pd.DataFrame(iris['data'])\n",
    "\n",
    "print(df)\n",
    "\n",
    "print(iris['target_names'])\n",
    "\n",
    "iris['feature_names']\n",
    "\n",
    "#Now we need a target and data so that we can train the model\n",
    "#As we know that we have to find out the class from the features we have\n",
    "#With this logic,our target is classes (0,1,2) and data is in df.\n",
    "X=df\n",
    "\n",
    "y=iris['target']\n",
    "\n",
    "#Splitting Data\n",
    "\n",
    "from sklearn.model_selection import train_test_split\n",
    "\n",
    "X_train, X_test, y_train, y_test = train_test_split(X, y, test_size=0.33, random_state=42)\n",
    "\n",
    "#KNN Classifier and Training of the Model\n",
    "\n",
    "from sklearn.neighbors import KNeighborsClassifier\n",
    "\n",
    "knn=KNeighborsClassifier(n_neighbors=3)\n",
    "knn.fit(X_train,y_train)\n",
    "\n",
    "#Prediction and Accuracy\n",
    "\n",
    "from sklearn.metrics import confusion_matrix\n",
    "\n",
    "from sklearn.metrics import accuracy_score\n",
    "\n",
    "from sklearn.metrics import classification_report\n",
    "\n",
    "y_pred=knn.predict(X_test)\n",
    "\n",
    "cm=confusion_matrix(y_test,y_pred) \n",
    "\n",
    "print(cm)\n",
    "\n",
    "print(\" correct predicition\",accuracy_score(y_test,y_pred))\n",
    "\n",
    "print(\" worng predicition\",(1-accuracy_score(y_test,y_pred)))"
   ]
  }
 ],
 "metadata": {
  "kernelspec": {
   "display_name": "Python 3",
   "language": "python",
   "name": "python3"
  },
  "language_info": {
   "codemirror_mode": {
    "name": "ipython",
    "version": 3
   },
   "file_extension": ".py",
   "mimetype": "text/x-python",
   "name": "python",
   "nbconvert_exporter": "python",
   "pygments_lexer": "ipython3",
   "version": "3.7.6"
  }
 },
 "nbformat": 4,
 "nbformat_minor": 4
}
